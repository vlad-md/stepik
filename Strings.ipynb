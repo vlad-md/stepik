{
 "cells": [
  {
   "cell_type": "code",
   "execution_count": null,
   "metadata": {},
   "outputs": [],
   "source": [
    "a = int(input())\n",
    "b = int(input())\n",
    "if b != 0:\n",
    "    print (a/b)\n",
    "else:\n",
    "    print (\"Can't divide by zero\")\n",
    "    b = int(input(\"Enter a non-zero value\"))\n",
    "    if b == 0:\n",
    "        print (\"You must be retarded\")\n",
    "    else:\n",
    "        print (a/b)"
   ]
  },
  {
   "cell_type": "code",
   "execution_count": null,
   "metadata": {},
   "outputs": [],
   "source": [
    "A = int(input())\n",
    "B = int(input())\n",
    "H = int(input())\n",
    "if H < A:\n",
    "    print (\"Недосып\")\n",
    "elif H > B:\n",
    "    print (\"Пересып\")\n",
    "else:\n",
    "    print (\"Это нормально\")"
   ]
  },
  {
   "cell_type": "code",
   "execution_count": null,
   "metadata": {},
   "outputs": [],
   "source": [
    "A = int(input())\n",
    "if A%4==0 and A%100!=0 or A%400==0:\n",
    "    print (\"Високосный\")\n",
    "else:\n",
    "    print (\"Норм\")\n",
    "    "
   ]
  }
 ],
 "metadata": {
  "kernelspec": {
   "display_name": "Python 3",
   "language": "python",
   "name": "python3"
  },
  "language_info": {
   "codemirror_mode": {
    "name": "ipython",
    "version": 3
   },
   "file_extension": ".py",
   "mimetype": "text/x-python",
   "name": "python",
   "nbconvert_exporter": "python",
   "pygments_lexer": "ipython3",
   "version": "3.7.3"
  }
 },
 "nbformat": 4,
 "nbformat_minor": 2
}
